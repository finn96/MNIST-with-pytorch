{
 "cells": [
  {
   "cell_type": "markdown",
   "id": "seasonal-suggestion",
   "metadata": {},
   "source": [
    "# Data Preparation\n",
    "\n",
    "The first step of this walkthrough is getting our hands on the data that will train and test our PyTorch model. The data is available from a number of sources, including websites like [kaggle](https://www.kaggle.com/c/digit-recognizer/data) and [Louisiana State University's website](https://csc.lsu.edu/~saikat/n-mnist/). It's even made available directly through [torchvision](https://pytorch.org/vision/0.8/datasets.html#mnist).\n",
    "\n",
    "We are going to go right to the source on this one, and download it directly from [Yann LeCun's website](http://yann.lecun.com/exdb/mnist/). The dataset has become quite widely used in the world of image classification, and it was popularized after Yann's 1998 Paper [Gradient-based learning applied to document recognition]\n",
    "(https://ieeexplore.ieee.org/document/726791).\n",
    "\n",
    "\n",
    "!TODO! Describe dataset\n",
    "## Data Sources (word?)\n",
    "There are 4 files we need to train our network:\n",
    "- The set of training images:  http://yann.lecun.com/exdb/mnist/train-images-idx3-ubyte.gz\n",
    "- The set of training labels:  http://yann.lecun.com/exdb/mnist/train-labels-idx1-ubyte.gz\n",
    "- The set of testing images:   http://yann.lecun.com/exdb/mnist/t10k-images-idx3-ubyte.gz\n",
    "- The set of testing labels:   http://yann.lecun.com/exdb/mnist/t10k-labels-idx1-ubyte.gz\n",
    "\n",
    "To download them, I recommend simply (from the root level of this repository):\n",
    "```\n",
    "$> mkdir data\n",
    "$> wget --directory-prefix data http://yann.lecun.com/exdb/mnist/train-images-idx3-ubyte.gz\n",
    "$> wget --directory-prefix data http://yann.lecun.com/exdb/mnist/train-labels-idx1-ubyte.gz\n",
    "$> wget --directory-prefix data http://yann.lecun.com/exdb/mnist/t10k-images-idx3-ubyte.gz\n",
    "$> wget --directory-prefix data http://yann.lecun.com/exdb/mnist/t10k-labels-idx1-ubyte.gz\n",
    "```\n",
    "\n",
    "The files are gunzipped, so we'll need to uncompress them. We can do so in one line:\n",
    "```\n",
    "$> gunzip data/*\n",
    "```\n",
    "\n",
    "Now we have all the data we need on our local machine. Let's start out by taking a look at the data and figuring out how to parse it.\n",
    "\n",
    "## Data Parsing and Loading\n",
    "\n",
    "*Aside: Many of you may wonder: why go through all the trouble of parsing the dataset when it is so easily available in nicer formats from other sources. (As mentioned before, `torchvision` has this dataset built in and ready to be used with a `TrainLoader`.) There's even a python library called `python-mnist` that can automatically parse these files for you. I chose to include this portion of the walkthrough because I myself found it of great educational value to learn how to parse the data from raw, unsigned bytes. In the real world of machine learning, your source data is going to start off messy. It's not going to be already built in to your ML framework where you can download it and create a fancy training iterator with a single function call. I believe that learning to parse the data yourself is good practice for when it comes time to use machine learning in your own projects, on your own data, and in pursuit of your interests.*\n",
    "\n",
    "The data is stored as bytes. A schema is provided on the website for the byte ordering:\n",
    "- Labels file:\n",
    "    - **Bytes \\[0,4):** Magic Number (MSB)\n",
    "    - **Bytes \\[4,8):** 32 bit integer representing the number of labels\n",
    "    - **Bytes \\[8,):**  The image labels. Each unsigned byte is a label.\n",
    "\n",
    "- Images file:\n",
    "    - **Bytes \\[0,4):** Magic Number (MSB)\n",
    "    - **Bytes \\[4,8):** 32 bit signed representing the number of images\n",
    "    - **Bytes \\[8,12):** 32 bit signed representing the number of rows per image\n",
    "    - **Bytes \\[12,16):** 32 bit integer represneting the number of columns per image\n",
    "    - **Bytes \\[15,):** The pixels. Each is an unsigned byte with a value between 0 and 255.\n",
    "\n",
    "#### We can start by parsing the labels file. It has a slighly simpler schema than the images file, so it will get us used to reading files as raw bytes."
   ]
  },
  {
   "cell_type": "code",
   "execution_count": 2,
   "id": "caroline-appreciation",
   "metadata": {},
   "outputs": [],
   "source": [
    "# Read in the labels file\n",
    "labels = []\n",
    "with open(\"./data/train-labels-idx1-ubyte\", 'rb') as label_file:\n",
    "    label_file.seek(4)  # Skip past the magic number\n",
    "    num_labels = int.from_bytes(label_file.read(4), 'big')  # Read and parse uint32 that holds the number of labels\n",
    "    \n",
    "    # Iterate through the remainder of the file\n",
    "    for _ in range(num_labels):\n",
    "        labels.append(int.from_bytes(label_file.read(1), 'big'))  # Read a byte, parse an integer from it, and store it.\n",
    "    \n",
    "    # Check that we've reached the end of the file\n",
    "    assert label_file.tell() == label_file.seek(0,2)"
   ]
  },
  {
   "cell_type": "markdown",
   "id": "basic-diagram",
   "metadata": {},
   "source": [
    "We should run a few checks to make sure that we parsed everything correctly. Here's what we can check\n",
    "- The number of labels we parsed is equal to the number stored in bytes \\[4,7) of the file\n",
    "- Every label should be in the [0,9]"
   ]
  },
  {
   "cell_type": "code",
   "execution_count": 3,
   "id": "functional-polyester",
   "metadata": {},
   "outputs": [],
   "source": [
    "assert len(labels) == num_labels\n",
    "assert any(label not in range(0,10) for label in labels) == False"
   ]
  },
  {
   "cell_type": "markdown",
   "id": "falling-table",
   "metadata": {},
   "source": [
    "#### Alright. We've got the labels. Time to move on to the images.\n",
    "\n",
    "This file is going to be a little harder to parse, but all we have to do is think about what data makes up an \"image\". An image is a made up of pixels, and those pixels are arranged in 2d space with a given height and a given width. In the case of grayscale images, like the ones we're using, the value of those pixels is represented by a single number. Thinking about this for a little bit, we can come up with psuedo-code showing how we would read a single image of known dimensions:\n",
    "\n",
    "```\n",
    "image_file = read(image_file)\n",
    "image_data = list(list())  # 2d list\n",
    "for r in [0,number_of_rows):\n",
    "    for c in [0,numer_of_cols):\n",
    "        pixel = image_fule.readbyte()\n",
    "        image_data[r][c] = pixel\n",
    "```\n",
    "\n",
    "In order to read multiple images, all we have to do is add one more for loop.\n",
    "\n",
    "Let's read in the images. Because python, the actual code doesn't look too much different from the psudeo code.\n",
    "\n",
    "| !TODO! Pixels are organized row-wise. Pixel values are 0 to 255. 0 means background (white), 255 means foreground (black).\n",
    "\n"
   ]
  },
  {
   "cell_type": "code",
   "execution_count": 4,
   "id": "beginning-honolulu",
   "metadata": {},
   "outputs": [],
   "source": [
    "with open(\"./data/train-images-idx3-ubyte\", 'rb') as image_file:\n",
    "    image_file.seek(4)  # Skip past magic number\n",
    "    num_images = int.from_bytes(image_file.read(4), \"big\")  # uint32 telling us the number of images\n",
    "    num_rows = int.from_bytes(image_file.read(4), \"big\")    # uint32 telling us the number of rows per image\n",
    "    num_cols = int.from_bytes(image_file.read(4), \"big\")    # uint32 telling us the number of columns per image\n",
    "    images = []\n",
    "    \n",
    "    # Iterate through the pixels and group them accordingly.\n",
    "    for _ in range(num_images):\n",
    "        image = []\n",
    "        for _ in range(num_rows):\n",
    "            col = list(image_file.read(num_cols))\n",
    "            image.append(col)          \n",
    "        images.append(image)\n",
    "\n",
    "# Note that np.reshape(np.array(list(images_file.read(num_rows * num_columns))), (num_images, num_rows, num_columns) is an easy one liner"
   ]
  },
  {
   "cell_type": "markdown",
   "id": "silent-quantity",
   "metadata": {},
   "source": [
    "Again, we can run a few checks to make sure that we parsed everything correctly:"
   ]
  },
  {
   "cell_type": "code",
   "execution_count": 5,
   "id": "tired-afternoon",
   "metadata": {},
   "outputs": [],
   "source": [
    "assert len(images) == num_images\n",
    "assert len(images[0]) == num_rows\n",
    "assert len(images[0][0]) == num_cols"
   ]
  },
  {
   "cell_type": "markdown",
   "id": "ethical-meeting",
   "metadata": {},
   "source": [
    "#### Finally, we can print out a few of our images and their associated labels to make sure we got everything right"
   ]
  },
  {
   "cell_type": "code",
   "execution_count": 6,
   "id": "positive-dispute",
   "metadata": {},
   "outputs": [
    {
     "data": {
      "image/png": "[encoded data removed]",
      "text/plain": [
       "<Figure size 720x720 with 3 Axes>"
      ]
     },
     "metadata": {
      "needs_background": "light"
     },
     "output_type": "display_data"
    }
   ],
   "source": [
    "import numpy as np\n",
    "import matplotlib.pyplot as plt\n",
    "\n",
    "i1, i2, i3 = np.random.randint(0, num_images, 3)   # Three randomly chosen images\n",
    "l1, l2, l3 = labels[i1], labels[i2], labels[i3]    # Get the associated labels for the chosen images\n",
    "fig = plt.figure(figsize=(10,10))\n",
    "\n",
    "fig.add_subplot(1,4,1)\n",
    "plt.imshow(images[i1], cmap='gray')\n",
    "plt.text(9, 35, f\"Label: {l1}\")\n",
    "\n",
    "fig.add_subplot(1,4,2)\n",
    "plt.imshow(images[i2], cmap='gray')\n",
    "plt.text(10,35, f\"Label: {l2}\")\n",
    "\n",
    "fig.add_subplot(1,4,3)\n",
    "plt.imshow(images[i3], cmap='gray')\n",
    "plt.text(11,35, f\"Label: {l3}\")\n",
    "\n",
    "plt.show()"
   ]
  },
  {
   "cell_type": "markdown",
   "id": "bibliographic-delhi",
   "metadata": {},
   "source": [
    "And there we have it, we've successfully parsed our training data!\n",
    "\n",
    "We'll use some ipy magic to save it so we can access it in another notebook. But in theory, you could save the data in whatever format you wanted and import it again in your model file."
   ]
  },
  {
   "cell_type": "code",
   "execution_count": 7,
   "id": "equipped-poland",
   "metadata": {},
   "outputs": [
    {
     "name": "stdout",
     "output_type": "stream",
     "text": [
      "Stored 'labels' (list)\n",
      "Stored 'images' (list)\n"
     ]
    }
   ],
   "source": [
    "%store labels\n",
    "%store images"
   ]
  }
 ],
 "metadata": {
  "kernelspec": {
   "display_name": "Python 3",
   "language": "python",
   "name": "python3"
  },
  "language_info": {
   "codemirror_mode": {
    "name": "ipython",
    "version": 3
   },
   "file_extension": ".py",
   "mimetype": "text/x-python",
   "name": "python",
   "nbconvert_exporter": "python",
   "pygments_lexer": "ipython3",
   "version": "3.8.8"
  }
 },
 "nbformat": 4,
 "nbformat_minor": 5
}
