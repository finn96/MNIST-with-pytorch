{
 "cells": [
  {
   "cell_type": "code",
   "execution_count": 2,
   "id": "accepting-beach",
   "metadata": {},
   "outputs": [],
   "source": [
    "# Starting with the easy stuff, parsing the image labels\n",
    "with open(\"./data/train-labels-idx1-ubyte\", 'rb') as label_file:\n",
    "    # See http://yann.lecun.com/exdb/mnist/#:~:text=TRAINING%20SET%20IMAGE%20FILE%20(train%2Dimages%2Didx3%2Dubyte)%3A for full     #  schema\n",
    "    # Basically, bytes [0,4) are magic number, [4,8) are the number of labels, and each byte after that is a label (0-9).\n",
    "    label_file.seek(4)\n",
    "    num_labels = label_file.read(4)\n",
    "    num_labels = int.from_bytes(num_labels, \"big\")\n",
    "    labels = []\n",
    "    for _ in range(num_labels):\n",
    "        label = int.from_bytes(label_file.read(1), \"big\")\n",
    "        labels.append(label)\n",
    "    \n",
    "    assert len(labels) == num_labels  # Just to make sure we did everything right\n"
   ]
  },
  {
   "cell_type": "code",
   "execution_count": 62,
   "id": "anticipated-nurse",
   "metadata": {},
   "outputs": [],
   "source": [
    "\n",
    "# Okay. Let's read the images in. I'm going to start with just one, so we can test out our logic before looping through 60000 images. Here's what we know about the schema: bytes [0,4) are the magic number. Bytes [4,8) are the number of images. Bytes [8,12) are the number of rows, and bytes [12,16) are the number of columns. After that, each byte is a pixel. I got all of this from http://yann.lecun.com/exdb/mnist/#:~:text=TRAINING%20SET%20IMAGE%20FILE%20(train%2Dimages%2Didx3%2Dubyte)%3A. Oh, and the pixels are stored row_wise. Oh, and the are MSB ordered.\n",
    "\n",
    "ORDERING = \"big\"  # We're going to have to use this a lot\n",
    "\n",
    "images_file = open(\"./data/train-images-idx3-ubyte\", 'rb')\n",
    "images_file.seek(4)  # skip the magic number\n",
    "num_images = int.from_bytes(images_file.read(4), ORDERING)\n",
    "num_rows = int.from_bytes(images_file.read(4), ORDERING)\n",
    "num_cols = int.from_bytes(images_file.read(4), ORDERING)\n",
    "\n",
    "# We can devise a pretty easy assertion to see if our numbers are right. If there are n images, h rows per image, w columns per image, and images are stored row_wise, then there should be n*h*w bytes remaining after we've read the first 16\n",
    "\n",
    "# Uncomment the lines below if you are not familiar with python file methods (I needed a refresher)\n",
    "#help(images_file.seek)\n",
    "#help(images_file.tell)\n",
    "\n",
    "cur_loc = images_file.tell()  # This should be 16, but maybe the file organization will change by the time you're reading this\n",
    "assert num_images * num_rows * num_cols == images_file.seek(0,2) - cur_loc\n",
    "\n",
    "# Okay, hopefully that passed on your machine. It did on mine.\n",
    "# Now, let's read just a single image and try and display it. This will gives us the confidence we need before reading 60000 of # them. As an added bonus, we can check the label of the image and see if it matches.\n",
    "# Remember, the images are stored in row_order. So we read num_cols bytes num_rows times to read a full image\n",
    "\n",
    "import numpy as np\n",
    "# We're going to read the first image. \n",
    "images_file.seek(cur_loc, 0) # reset ourselves\n",
    "image = np.array([])\n",
    "for _ in range(num_rows):\n",
    "    row = images_file.read(num_cols)\n",
    "    row = list(row)\n",
    "    image = np.append(image, np.array(row))\n",
    "\n",
    "image = np.reshape(image, (28, 28))\n",
    "images_file.close()"
   ]
  },
  {
   "cell_type": "code",
   "execution_count": 69,
   "id": "other-serbia",
   "metadata": {},
   "outputs": [
    {
     "data": {
      "image/png": "[encoded data removed]",
      "text/plain": [
       "<Figure size 432x288 with 1 Axes>"
      ]
     },
     "metadata": {
      "needs_background": "light"
     },
     "output_type": "display_data"
    }
   ],
   "source": [
    "## Alright, so we image our \"image\" now. Let's try to visualize it\n",
    "import matplotlib.pyplot as plt\n",
    "plt.imshow(image, cmap='gray')\n",
    "plt.show()\n",
    "# WooHoo! that looks like a number to me! and for good measure, let's check the label as well:\n",
    "image_vectors = np.array(image)\n",
    "trans = np.array([[0, -1], [1,0]])\n",
    "new_image = np.ndarray((28,28))\n",
    "for i, vec in enumerate(image_vectors):\n",
    "    for j, p in enumerate(vec):\n",
    "        new_loc_i = i * trans[0][0] + j * trans[0][1]\n",
    "        new_loc_j = i * trans[1][0] + j * trans[1][1]\n",
    "        new_image[new_loc_i][new_loc_j] = p"
   ]
  },
  {
   "cell_type": "code",
   "execution_count": 70,
   "id": "traditional-durham",
   "metadata": {},
   "outputs": [
    {
     "name": "stdout",
     "output_type": "stream",
     "text": [
      "[[ 0 -1]\n",
      " [ 1  0]]\n"
     ]
    },
    {
     "data": {
      "text/plain": [
       "<matplotlib.image.AxesImage at 0x7ff528380bb0>"
      ]
     },
     "execution_count": 70,
     "metadata": {},
     "output_type": "execute_result"
    },
    {
     "data": {
      "image/png": "[encoded data removed]",
      "text/plain": [
       "<Figure size 432x288 with 1 Axes>"
      ]
     },
     "metadata": {
      "needs_background": "light"
     },
     "output_type": "display_data"
    }
   ],
   "source": [
    "print(trans)\n",
    "plt.imshow(new_image, cmap='gray')"
   ]
  },
  {
   "cell_type": "code",
   "execution_count": 5,
   "id": "together-olympus",
   "metadata": {},
   "outputs": [],
   "source": [
    "# Alright friends. I think we're in a good place to read in all our images. Let's write a for loop to do so. But first, a quick note:\n",
    "\n",
    "# This line up above may have given you pause: image = np.reshape(image, (28, 28)). I can see two main reasons why you'd ponder this line: \n",
    "# 1) You're wondering what this method does and why we need it\n",
    "# 2) You've realized that this makes our per_row loop unneccessary\n",
    "\n",
    "# If you're part of group 2, then just know you're correct. If you're part of group 1, the explanation is fairly simple. `np.append(arr, values)` will flatten `values`. So that means `image` was actually just a 1 dimensional array when the for loop exited. This behavior differs from pythons native `list.append`, so don't be discouraged if you didn't know this. `np.reshape(image, (28,28))` just takes our 1d array and creates a 2d array of shape 28x28, just taking the values in order.\n",
    "\n",
    "# This can take a little bit to run. On my machine, it took about 5 seconds.\n",
    "with open(\"./data/train-images-idx3-ubyte\", 'rb') as images_file:\n",
    "    global num_images  # we'll use this later\n",
    "    images_file.seek(4) # Skip the magic number\n",
    "    num_images = int.from_bytes(images_file.read(4), \"big\")\n",
    "    num_rows = int.from_bytes(images_file.read(4), \"big\")\n",
    "    num_cols = int.from_bytes(images_file.read(4), \"big\")\n",
    "    images = []\n",
    "    for _ in range(num_images):\n",
    "        img_bytes = list(images_file.read(num_rows*num_cols))\n",
    "        img = np.array(img_bytes)\n",
    "        img = np.reshape(img, (28,28))\n",
    "        images.append(img)\n",
    "    "
   ]
  },
  {
   "cell_type": "code",
   "execution_count": 6,
   "id": "bored-closing",
   "metadata": {},
   "outputs": [],
   "source": [
    "## Okay, so now we have an list of np.Arrays, each representing an image. Let's check a few things to make sure we parsed everything right\n",
    "\n",
    "# Assert we have the expected number of images\n",
    "assert len(images) == num_images\n",
    "\n",
    "# Let's randomly test some images and make sure they have the proper shape\n",
    "i1, i2, i3 = np.random.randint(0,num_images, 3)\n",
    "assert images[i1].shape == (28,28)\n",
    "assert images[i2].shape == (28,28)\n",
    "assert images[i3].shape == (28,28)"
   ]
  },
  {
   "cell_type": "code",
   "execution_count": 7,
   "id": "opened-oklahoma",
   "metadata": {},
   "outputs": [
    {
     "data": {
      "image/png": "[encoded data removed]",
      "text/plain": [
       "<Figure size 720x720 with 3 Axes>"
      ]
     },
     "metadata": {
      "needs_background": "light"
     },
     "output_type": "display_data"
    }
   ],
   "source": [
    "## That's all well and good, but let's take a look at some pictures as well!!\n",
    "fig = plt.figure(figsize=(10,10))\n",
    "fig.add_subplot(1, 4, 1)\n",
    "plt.text(9, 40, f\"label: {labels[i1]}\")\n",
    "plt.imshow(images[34620], cmap='gray')\n",
    "fig.add_subplot(1, 4, 2)\n",
    "plt.text(10, 40, f\"label: {labels[i2]}\")\n",
    "plt.imshow(images[i2], cmap='gray')\n",
    "fig.add_subplot(1,4,3)\n",
    "plt.text(10, 40, f\"label: {labels[i3]}\")\n",
    "plt.imshow(images[i3], cmap='gray')\n",
    "plt.show()"
   ]
  },
  {
   "cell_type": "code",
   "execution_count": 7,
   "id": "acknowledged-georgia",
   "metadata": {},
   "outputs": [],
   "source": [
    "# Alright, that seems all good. Let's just save the data\n",
    "# For the labels, we're just going to save them as a 1D array. This will come back to bite us in the butt later, but if we were # to transform these labels into vectors now, we'd miss out on a nice learning oppurtunity later on.\n",
    "\n",
    "with open(\"./data/processed_training_labels.csv\", 'w') as f:\n",
    "    f.write(','.join(map(lambda x: str(x),labels)))\n",
    "\n",
    "## A brief note here:\n",
    "## The way I am storing images in this project is NOT SMART. We already have the wonderful 45mb file that we downloaded. When ## this writing loop is done, it will have created a ~105mb file on your machine. So why am I doing this?\n",
    "## Well, the purpose of this is to learn. Many people are likely not used to reading in data as raw (or nearly raw) bytes. \n",
    "## maybe the byte reading up above was a little dicey for some of you. So I'm storing the data in a format that anyone with a rudimentary background in CS will know how to parse and play with: CSV. It's going to hurt our performance, but it may just help with understanding.\n",
    "\n",
    "# Note -- I also am aware of my privledge here. Some machines may begin to struggle with a file this size. If that's the case, I'm sorry.\n",
    "\n",
    "with open(\"./data/processed_training_images\", 'w') as f:\n",
    "    ## We'll store each image as a flat entry on a single line\n",
    "    for img in images:\n",
    "        f.write(','.join(map(lambda x: str(x), img.flatten())))\n",
    "        f.write('\\n')"
   ]
  },
  {
   "cell_type": "code",
   "execution_count": 144,
   "id": "cleared-projector",
   "metadata": {},
   "outputs": [],
   "source": [
    "#############################################################################################################################"
   ]
  },
  {
   "cell_type": "code",
   "execution_count": 149,
   "id": "surprising-correspondence",
   "metadata": {},
   "outputs": [],
   "source": [
    "# Starting with the easy stuff, parsing the image labels\n",
    "with open(\"./data/t10k-labels-idx1-ubyte\", 'rb') as label_file:\n",
    "    # See http://yann.lecun.com/exdb/mnist/#:~:text=TRAINING%20SET%20IMAGE%20FILE%20(train%2Dimages%2Didx3%2Dubyte)%3A for full     #  schema\n",
    "    # Basically, bytes [0,4) are magic number, [4,8) are the number of labels, and each byte after that is a label (0-9).\n",
    "    label_file.seek(4)\n",
    "    num_labels = label_file.read(4)\n",
    "    num_labels = int.from_bytes(num_labels, \"big\")\n",
    "    labels = []\n",
    "    for _ in range(num_labels):\n",
    "        label = int.from_bytes(label_file.read(1), \"big\")\n",
    "        labels.append(label)\n",
    "    \n",
    "    assert len(labels) == num_labels  # Just to make sure we did everything right"
   ]
  },
  {
   "cell_type": "code",
   "execution_count": 150,
   "id": "veterinary-guest",
   "metadata": {},
   "outputs": [],
   "source": [
    "with open(\"./data/t10k-images-idx3-ubyte\", 'rb') as images_file:\n",
    "    global num_images  # we'll use this later\n",
    "    images_file.seek(4) # Skip the magic number\n",
    "    num_images = int.from_bytes(images_file.read(4), \"big\")\n",
    "    num_rows = int.from_bytes(images_file.read(4), \"big\")\n",
    "    num_cols = int.from_bytes(images_file.read(4), \"big\")\n",
    "    images = []\n",
    "    for _ in range(num_images):\n",
    "        img_bytes = list(images_file.read(num_rows*num_cols))\n",
    "        img = np.array(img_bytes)\n",
    "        img = np.reshape(img, (28,28))\n",
    "        images.append(img)\n",
    "    "
   ]
  },
  {
   "cell_type": "code",
   "execution_count": 151,
   "id": "leading-fleet",
   "metadata": {},
   "outputs": [],
   "source": [
    "with open(\"./data/processed_testing_labels.csv\", 'w') as f:\n",
    "    f.write(','.join(map(lambda x: str(x),labels)))\n",
    "\n",
    "with open(\"./data/processed_testing_images\", 'w') as f:\n",
    "    ## We'll store each image as a flat entry on a single line\n",
    "    for img in images:\n",
    "        f.write(','.join(map(lambda x: str(x), img.flatten())))\n",
    "        f.write('\\n')"
   ]
  },
  {
   "cell_type": "code",
   "execution_count": null,
   "id": "twelve-circulation",
   "metadata": {},
   "outputs": [],
   "source": []
  }
 ],
 "metadata": {
  "kernelspec": {
   "display_name": "Python 3",
   "language": "python",
   "name": "python3"
  },
  "language_info": {
   "codemirror_mode": {
    "name": "ipython",
    "version": 3
   },
   "file_extension": ".py",
   "mimetype": "text/x-python",
   "name": "python",
   "nbconvert_exporter": "python",
   "pygments_lexer": "ipython3",
   "version": "3.8.8"
  }
 },
 "nbformat": 4,
 "nbformat_minor": 5
}
