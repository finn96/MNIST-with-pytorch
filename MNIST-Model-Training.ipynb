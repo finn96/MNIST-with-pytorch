{
 "cells": [
  {
   "cell_type": "code",
   "execution_count": 325,
   "id": "casual-portfolio",
   "metadata": {},
   "outputs": [],
   "source": [
    "import torch\n",
    "import torch.nn as nn\n",
    "import torch.nn.functional as F\n",
    "import torch.optim as optim\n",
    "import numpy as np"
   ]
  },
  {
   "cell_type": "code",
   "execution_count": 326,
   "id": "conventional-director",
   "metadata": {},
   "outputs": [],
   "source": [
    "## Let's start by loading our data\n",
    "\n",
    "# Starting with the labels\n",
    "with open(\"./data/processed_training_labels.csv\") as labels_file:\n",
    "    labels_string = labels_file.read()\n",
    "    labels = np.array(labels_string.split(','), dtype=int)\n",
    "    \n",
    "# Recall we had 60000 images. Let's make sure we didn't lose anythin\n",
    "assert len(labels) == 60000\n",
    "\n",
    "# Now for the images\n",
    "images = []\n",
    "with open(\"./data/processed_training_images\") as images_file:\n",
    "    raw_image_strings = images_file.readlines()\n",
    "    for img_string in raw_image_strings:\n",
    "        img_flat = np.array(img_string.split(\",\"), dtype=np.double)\n",
    "        img = np.reshape(img_flat, (28,28))\n",
    "        images.append(img)\n",
    "        \n",
    "# Again, let's do some random spot checking to make sure everything is as we expect\n",
    "assert len(images) == 60000\n",
    "i1,i2,i3 = np.random.randint(0, 60000, 3)\n",
    "assert images[i1].shape == (28,28)\n",
    "assert images[i2].shape == (28,28)\n",
    "assert images[i3].shape == (28,28)"
   ]
  },
  {
   "cell_type": "code",
   "execution_count": 66,
   "id": "previous-drill",
   "metadata": {},
   "outputs": [
    {
     "data": {
      "text/plain": [
       "<matplotlib.image.AxesImage at 0x7f170ae2cbe0>"
      ]
     },
     "execution_count": 66,
     "metadata": {},
     "output_type": "execute_result"
    },
    {
     "data": {
      "image/png": "[encoded data removed]",
      "text/plain": [
       "<Figure size 720x720 with 3 Axes>"
      ]
     },
     "metadata": {
      "needs_background": "light"
     },
     "output_type": "display_data"
    }
   ],
   "source": [
    "# And again, we'll just print out some images and their labels for good measure \n",
    "import matplotlib.pyplot as plt\n",
    "fig = plt.figure(figsize=(10,10))\n",
    "fig.add_subplot(1,4,1)\n",
    "plt.text(9,40,f\"label: {labels[i1]}\")\n",
    "plt.imshow(images[i1], cmap='gray')\n",
    "fig.add_subplot(1,4,2)\n",
    "plt.text(10,40,f\"label: {labels[i2]}\")\n",
    "plt.imshow(images[i2], cmap='gray')\n",
    "fig.add_subplot(1,4,3)\n",
    "plt.text(11,40,f\"label: {labels[i3]}\")\n",
    "plt.imshow(images[i3], cmap='gray')"
   ]
  },
  {
   "cell_type": "code",
   "execution_count": 67,
   "id": "perfect-classics",
   "metadata": {},
   "outputs": [],
   "source": [
    "## Okay! Now the fun begins.\n",
    "# To start, let's just get everything over to Torch\n",
    "t_labels = torch.tensor(labels)\n",
    "t_images = torch.tensor(images)"
   ]
  },
  {
   "cell_type": "code",
   "execution_count": 99,
   "id": "egyptian-thanksgiving",
   "metadata": {},
   "outputs": [
    {
     "name": "stdout",
     "output_type": "stream",
     "text": [
      "torch.Size([60000])\n",
      "torch.Size([60000, 28, 28])\n"
     ]
    },
    {
     "data": {
      "text/plain": [
       "60000"
      ]
     },
     "execution_count": 99,
     "metadata": {},
     "output_type": "execute_result"
    }
   ],
   "source": [
    "# And we can take a look at their shapes\n",
    "print(t_labels.shape)\n",
    "print(t_images.shape)\n",
    "len(t_images)"
   ]
  },
  {
   "cell_type": "code",
   "execution_count": 289,
   "id": "stuck-insured",
   "metadata": {},
   "outputs": [],
   "source": [
    "# TODO: !DF! Try just one fully connected layer\n",
    "# TODO: !DF! Write explanation on MSELoss()\n",
    "class Net(nn.Module):\n",
    "    def __init__(self):\n",
    "        super(Net, self).__init__()\n",
    "        self.conv1 = nn.Conv1d(1,1,3)\n",
    "        self.fc1 = nn.Linear(782, 80)\n",
    "        self.fc2 = nn.Linear(80, 10)\n",
    "        \n",
    "    def forward(self, x):\n",
    "        x = F.relu(self.conv1(x))\n",
    "        x = F.relu(self.fc1(x))\n",
    "        return self.fc2(x)"
   ]
  },
  {
   "cell_type": "code",
   "execution_count": 290,
   "id": "existing-cisco",
   "metadata": {},
   "outputs": [],
   "source": [
    "net = Net()\n",
    "net = net.float()"
   ]
  },
  {
   "cell_type": "code",
   "execution_count": 291,
   "id": "taken-barbados",
   "metadata": {},
   "outputs": [
    {
     "name": "stdout",
     "output_type": "stream",
     "text": [
      "Epoch: 0, Batch: 0, running_loss: 3.2680726051330566\n",
      "Epoch: 0, Batch: 2000, running_loss: 46.45262533426285\n",
      "Epoch: 0, Batch: 4000, running_loss: 45.08030363917351\n",
      "Epoch: 0, Batch: 6000, running_loss: 44.98260244727135\n",
      "Epoch: 0, Batch: 8000, running_loss: 44.94982831180096\n",
      "Epoch: 0, Batch: 10000, running_loss: 44.889522917568684\n",
      "Epoch: 0, Batch: 12000, running_loss: 44.86334506422281\n",
      "Epoch: 0, Batch: 14000, running_loss: 44.798720955848694\n",
      "Epoch: 0, Batch: 16000, running_loss: 44.803238317370415\n",
      "Epoch: 0, Batch: 18000, running_loss: 44.678233072161674\n",
      "Epoch: 0, Batch: 20000, running_loss: 44.65601298213005\n",
      "Epoch: 0, Batch: 22000, running_loss: 44.64880532771349\n",
      "Epoch: 0, Batch: 24000, running_loss: 44.62621758133173\n",
      "Epoch: 0, Batch: 26000, running_loss: 44.53747986257076\n",
      "Epoch: 0, Batch: 28000, running_loss: 44.551679506897926\n",
      "Epoch: 0, Batch: 30000, running_loss: 44.43278343975544\n",
      "Epoch: 0, Batch: 32000, running_loss: 44.57605744898319\n",
      "Epoch: 0, Batch: 34000, running_loss: 44.409954600036144\n",
      "Epoch: 0, Batch: 36000, running_loss: 44.37008322775364\n",
      "Epoch: 0, Batch: 38000, running_loss: 44.36394166201353\n",
      "Epoch: 0, Batch: 40000, running_loss: 44.29721911251545\n",
      "Epoch: 0, Batch: 42000, running_loss: 44.26315752416849\n",
      "Epoch: 0, Batch: 44000, running_loss: 44.268030010163784\n",
      "Epoch: 0, Batch: 46000, running_loss: 44.26139625906944\n",
      "Epoch: 0, Batch: 48000, running_loss: 44.22976579517126\n",
      "Epoch: 0, Batch: 50000, running_loss: 44.19416879117489\n",
      "Epoch: 0, Batch: 52000, running_loss: 44.216385908424854\n",
      "Epoch: 0, Batch: 54000, running_loss: 44.04590640962124\n",
      "Epoch: 0, Batch: 56000, running_loss: 44.035886473953724\n",
      "Epoch: 0, Batch: 58000, running_loss: 44.017866246402264\n",
      "Epoch: 1, Batch: 0, running_loss: 0.09037340432405472\n",
      "Epoch: 1, Batch: 2000, running_loss: 44.137329772114754\n",
      "Epoch: 1, Batch: 4000, running_loss: 43.994880594313145\n",
      "Epoch: 1, Batch: 6000, running_loss: 43.96301030367613\n",
      "Epoch: 1, Batch: 8000, running_loss: 44.06773816794157\n",
      "Epoch: 1, Batch: 10000, running_loss: 43.86809562146664\n",
      "Epoch: 1, Batch: 12000, running_loss: 44.01195356994867\n",
      "Epoch: 1, Batch: 14000, running_loss: 43.855749770998955\n",
      "Epoch: 1, Batch: 16000, running_loss: 44.0439220815897\n",
      "Epoch: 1, Batch: 18000, running_loss: 43.79473974555731\n",
      "Epoch: 1, Batch: 20000, running_loss: 43.826987728476524\n",
      "Epoch: 1, Batch: 22000, running_loss: 43.90699251741171\n",
      "Epoch: 1, Batch: 24000, running_loss: 43.9290678948164\n",
      "Epoch: 1, Batch: 26000, running_loss: 43.89313408732414\n",
      "Epoch: 1, Batch: 28000, running_loss: 43.90627969801426\n",
      "Epoch: 1, Batch: 30000, running_loss: 43.79479426890612\n",
      "Epoch: 1, Batch: 32000, running_loss: 44.10326036810875\n",
      "Epoch: 1, Batch: 34000, running_loss: 43.825613640248775\n",
      "Epoch: 1, Batch: 36000, running_loss: 43.750520035624504\n",
      "Epoch: 1, Batch: 38000, running_loss: 43.85648547112942\n",
      "Epoch: 1, Batch: 40000, running_loss: 43.8367378115654\n",
      "Epoch: 1, Batch: 42000, running_loss: 43.78088930994272\n",
      "Epoch: 1, Batch: 44000, running_loss: 43.82718934863806\n",
      "Epoch: 1, Batch: 46000, running_loss: 43.8297868296504\n",
      "Epoch: 1, Batch: 48000, running_loss: 43.83466254174709\n",
      "Epoch: 1, Batch: 50000, running_loss: 43.78445794433355\n",
      "Epoch: 1, Batch: 52000, running_loss: 43.789605922997\n",
      "Epoch: 1, Batch: 54000, running_loss: 43.631249867379665\n",
      "Epoch: 1, Batch: 56000, running_loss: 43.646274000406265\n",
      "Epoch: 1, Batch: 58000, running_loss: 43.64130558073521\n",
      "Epoch: 2, Batch: 0, running_loss: 0.08917371928691864\n",
      "Epoch: 2, Batch: 2000, running_loss: 43.81364291161299\n",
      "Epoch: 2, Batch: 4000, running_loss: 43.623940609395504\n",
      "Epoch: 2, Batch: 6000, running_loss: 43.64356393367052\n",
      "Epoch: 2, Batch: 8000, running_loss: 43.75597341358662\n",
      "Epoch: 2, Batch: 10000, running_loss: 43.54740060120821\n",
      "Epoch: 2, Batch: 12000, running_loss: 43.75498363375664\n",
      "Epoch: 2, Batch: 14000, running_loss: 43.5741323903203\n",
      "Epoch: 2, Batch: 16000, running_loss: 43.80282648652792\n",
      "Epoch: 2, Batch: 18000, running_loss: 43.50479585677385\n",
      "Epoch: 2, Batch: 20000, running_loss: 43.566820338368416\n",
      "Epoch: 2, Batch: 22000, running_loss: 43.65940213948488\n",
      "Epoch: 2, Batch: 24000, running_loss: 43.68501436710358\n",
      "Epoch: 2, Batch: 26000, running_loss: 43.67269468307495\n",
      "Epoch: 2, Batch: 28000, running_loss: 43.671684831380844\n",
      "Epoch: 2, Batch: 30000, running_loss: 43.58357383310795\n",
      "Epoch: 2, Batch: 32000, running_loss: 43.89623000472784\n",
      "Epoch: 2, Batch: 34000, running_loss: 43.595148123800755\n",
      "Epoch: 2, Batch: 36000, running_loss: 43.51444332301617\n",
      "Epoch: 2, Batch: 38000, running_loss: 43.64912986010313\n",
      "Epoch: 2, Batch: 40000, running_loss: 43.64348231256008\n",
      "Epoch: 2, Batch: 42000, running_loss: 43.58664593845606\n",
      "Epoch: 2, Batch: 44000, running_loss: 43.646180272102356\n",
      "Epoch: 2, Batch: 46000, running_loss: 43.64028615504503\n",
      "Epoch: 2, Batch: 48000, running_loss: 43.64887443929911\n",
      "Epoch: 2, Batch: 50000, running_loss: 43.60127130895853\n",
      "Epoch: 2, Batch: 52000, running_loss: 43.588000029325485\n",
      "Epoch: 2, Batch: 54000, running_loss: 43.45077260583639\n",
      "Epoch: 2, Batch: 56000, running_loss: 43.46476186066866\n",
      "Epoch: 2, Batch: 58000, running_loss: 43.45891125500202\n"
     ]
    }
   ],
   "source": [
    "criterion = nn.MSELoss()\n",
    "#optimizer = optim.SGD(net.parameters(), lr=0.01)\n",
    "for epoch in range(3):\n",
    "    running_loss = 0.0\n",
    "    for i in range(0,len(t_images), 4):\n",
    "        raw_batch = t_images[i:i+4]\n",
    "        batch = torch.zeros(4,1,784)\n",
    "        for j, img in enumerate(raw_batch):\n",
    "            batch[j] = img.flatten().double()\n",
    "        batch_labels = t_labels[i:i+4]\n",
    "        targets = torch.zeros(len(batch_labels),10)\n",
    "        for k,t in enumerate(targets):\n",
    "            label = batch_labels[k]\n",
    "            t[label] = 1\n",
    "        \n",
    "        net.zero_grad()\n",
    "        out = net(batch)\n",
    "        loss = criterion(out, targets)\n",
    "        loss.backward()\n",
    "        running_loss += loss.item()\n",
    "        if i % 2000 == 0:\n",
    "            ## I recommend doing things like this. It helped me catch mistakes\n",
    "            #print(batch[0][0])\n",
    "            #plt.imshow(batch[0][0].reshape((28,28)), cmap='gray')\n",
    "            #plt.show()\n",
    "            #print(targets[0])\n",
    "            print(f\"Epoch: {epoch}, Batch: {i}, running_loss: {running_loss}\")\n",
    "            running_loss = 0.0\n",
    "        for f in net.parameters():\n",
    "            f.data.sub_(f.grad.data * 0.01)\n",
    "        \n",
    "    "
   ]
  },
  {
   "cell_type": "code",
   "execution_count": 295,
   "id": "stylish-ethernet",
   "metadata": {},
   "outputs": [
    {
     "data": {
      "text/plain": [
       "<matplotlib.image.AxesImage at 0x7f1705671880>"
      ]
     },
     "execution_count": 295,
     "metadata": {},
     "output_type": "execute_result"
    },
    {
     "data": {
      "image/png": "[encoded data removed]",
      "text/plain": [
       "<Figure size 432x288 with 1 Axes>"
      ]
     },
     "metadata": {
      "needs_background": "light"
     },
     "output_type": "display_data"
    }
   ],
   "source": [
    "plt.imshow(bt[2][0], cmap='gray')"
   ]
  },
  {
   "cell_type": "code",
   "execution_count": 296,
   "id": "heated-highlight",
   "metadata": {},
   "outputs": [
    {
     "data": {
      "text/plain": [
       "tensor(4)"
      ]
     },
     "execution_count": 296,
     "metadata": {},
     "output_type": "execute_result"
    }
   ],
   "source": [
    "torch.argmax(net(bt[2][0].flatten().float().unsqueeze(0).unsqueeze(0)))"
   ]
  },
  {
   "cell_type": "code",
   "execution_count": 357,
   "id": "relative-fashion",
   "metadata": {},
   "outputs": [],
   "source": [
    "with open(\"./data/processed_testing_labels.csv\") as labels_file:\n",
    "    labels_string = labels_file.read()\n",
    "    testing_labels = np.array(labels_string.split(','), dtype=int)\n",
    "    \n",
    "# Recall we had 60000 images. Let's make sure we didn't lose anythin\n",
    "assert len(testing_labels) == 10000\n",
    "\n",
    "# Now for the images\n",
    "testing_images = []\n",
    "with open(\"./data/processed_testing_images\") as images_file:\n",
    "    raw_image_strings = images_file.readlines()\n",
    "    for img_string in raw_image_strings:\n",
    "        img_flat = np.array(img_string.split(\",\"), dtype=np.double)\n",
    "        img = np.reshape(img_flat, (28,28))\n",
    "        testing_images.append(img)"
   ]
  },
  {
   "cell_type": "code",
   "execution_count": 328,
   "id": "complex-renewal",
   "metadata": {},
   "outputs": [],
   "source": [
    "t_test_labels = torch.tensor(testing_labels)\n",
    "t_test_images = torch.tensor(testing_images)"
   ]
  },
  {
   "cell_type": "code",
   "execution_count": 330,
   "id": "retired-aging",
   "metadata": {},
   "outputs": [
    {
     "name": "stdout",
     "output_type": "stream",
     "text": [
      "Result: 7, Target: 7\n",
      "Result: 2, Target: 2\n",
      "Result: 1, Target: 1\n",
      "Result: 0, Target: 0\n",
      "Result: 4, Target: 4\n",
      "Result: 1, Target: 1\n",
      "Result: 4, Target: 4\n",
      "Result: 9, Target: 9\n",
      "Result: 5, Target: 5\n",
      "Result: 7, Target: 9\n",
      "Result: 0, Target: 0\n",
      "Result: 6, Target: 6\n",
      "Result: 9, Target: 9\n",
      "Result: 0, Target: 0\n",
      "Result: 1, Target: 1\n",
      "Result: 3, Target: 5\n",
      "Result: 9, Target: 9\n",
      "Result: 7, Target: 7\n",
      "Result: 3, Target: 3\n",
      "Result: 4, Target: 4\n",
      "Result: 9, Target: 9\n",
      "Result: 6, Target: 6\n",
      "Result: 6, Target: 6\n",
      "Result: 5, Target: 5\n",
      "Result: 4, Target: 4\n",
      "Result: 0, Target: 0\n",
      "Result: 7, Target: 7\n",
      "Result: 4, Target: 4\n",
      "Result: 0, Target: 0\n",
      "Result: 1, Target: 1\n",
      "Result: 3, Target: 3\n",
      "Result: 1, Target: 1\n",
      "Result: 3, Target: 3\n",
      "Result: 6, Target: 4\n",
      "Result: 7, Target: 7\n",
      "Result: 2, Target: 2\n",
      "Result: 7, Target: 7\n",
      "Result: 1, Target: 1\n",
      "Result: 2, Target: 2\n",
      "Result: 1, Target: 1\n",
      "Result: 1, Target: 1\n",
      "Result: 7, Target: 7\n",
      "Result: 4, Target: 4\n",
      "Result: 1, Target: 2\n",
      "Result: 3, Target: 3\n",
      "Result: 5, Target: 5\n",
      "Result: 1, Target: 1\n",
      "Result: 2, Target: 2\n",
      "Result: 9, Target: 4\n",
      "Result: 4, Target: 4\n",
      "Result: 6, Target: 6\n",
      "Result: 3, Target: 3\n",
      "Result: 5, Target: 5\n",
      "Result: 3, Target: 5\n",
      "Result: 6, Target: 6\n",
      "Result: 0, Target: 0\n",
      "Result: 4, Target: 4\n",
      "Result: 1, Target: 1\n",
      "Result: 9, Target: 9\n",
      "Result: 5, Target: 5\n",
      "Result: 7, Target: 7\n",
      "Result: 8, Target: 8\n",
      "Result: 9, Target: 9\n",
      "Result: 2, Target: 3\n",
      "Result: 7, Target: 7\n",
      "Result: 9, Target: 4\n",
      "Result: 2, Target: 6\n",
      "Result: 4, Target: 4\n",
      "Result: 3, Target: 3\n",
      "Result: 0, Target: 0\n",
      "Result: 7, Target: 7\n",
      "Result: 0, Target: 0\n",
      "Result: 2, Target: 2\n",
      "Result: 7, Target: 9\n",
      "Result: 1, Target: 1\n",
      "Result: 7, Target: 7\n",
      "Result: 3, Target: 3\n",
      "Result: 7, Target: 2\n",
      "Result: 9, Target: 9\n",
      "Result: 7, Target: 7\n",
      "Result: 9, Target: 7\n",
      "Result: 6, Target: 6\n",
      "Result: 2, Target: 2\n",
      "Result: 7, Target: 7\n",
      "Result: 8, Target: 8\n",
      "Result: 4, Target: 4\n",
      "Result: 7, Target: 7\n",
      "Result: 3, Target: 3\n",
      "Result: 6, Target: 6\n",
      "Result: 1, Target: 1\n",
      "Result: 3, Target: 3\n",
      "Result: 6, Target: 6\n",
      "Result: 9, Target: 9\n",
      "Result: 3, Target: 3\n",
      "Result: 1, Target: 1\n",
      "Result: 4, Target: 4\n",
      "Result: 1, Target: 1\n",
      "Result: 7, Target: 7\n",
      "Result: 6, Target: 6\n",
      "Result: 9, Target: 9\n",
      "88\n"
     ]
    }
   ],
   "source": [
    "test_imgs = t_test_images\n",
    "test_labels = t_test_labels\n",
    "correct = []\n",
    "for i,img in enumerate(test_imgs):\n",
    "    res = torch.argmax(net(img.flatten().float().unsqueeze(0).unsqueeze(0)))\n",
    "    targ = test_labels[i]\n",
    "    if res == targ:\n",
    "        correct.append(1)\n",
    "    else:\n",
    "        correct.append(0)\n",
    "\n",
    "print(f\"{sum(correct)} / {len(correct)}\")"
   ]
  },
  {
   "cell_type": "code",
   "execution_count": 355,
   "id": "continent-christianity",
   "metadata": {},
   "outputs": [
    {
     "data": {
      "text/plain": [
       "<matplotlib.image.AxesImage at 0x7f170573ae50>"
      ]
     },
     "execution_count": 355,
     "metadata": {},
     "output_type": "execute_result"
    },
    {
     "data": {
      "image/png": "[encoded data removed]",
      "text/plain": [
       "<Figure size 432x288 with 1 Axes>"
      ]
     },
     "metadata": {
      "needs_background": "light"
     },
     "output_type": "display_data"
    }
   ],
   "source": [
    "img = t_test_images[24]\n",
    "plt.imshow(img, cmap='gray')"
   ]
  },
  {
   "cell_type": "code",
   "execution_count": 356,
   "id": "dangerous-newark",
   "metadata": {},
   "outputs": [
    {
     "data": {
      "text/plain": [
       "tensor(4)"
      ]
     },
     "execution_count": 356,
     "metadata": {},
     "output_type": "execute_result"
    }
   ],
   "source": [
    "torch.argmax(net(img.flatten().float().unsqueeze(0).unsqueeze(0)))"
   ]
  },
  {
   "cell_type": "code",
   "execution_count": 336,
   "id": "peaceful-civilization",
   "metadata": {},
   "outputs": [
    {
     "data": {
      "text/plain": [
       "torch.Size([28, 28])"
      ]
     },
     "execution_count": 336,
     "metadata": {},
     "output_type": "execute_result"
    }
   ],
   "source": [
    "img.shape"
   ]
  },
  {
   "cell_type": "code",
   "execution_count": 337,
   "id": "established-runner",
   "metadata": {},
   "outputs": [
    {
     "data": {
      "text/plain": [
       "torch.Size([784])"
      ]
     },
     "execution_count": 337,
     "metadata": {},
     "output_type": "execute_result"
    }
   ],
   "source": [
    "img.flatten().shape"
   ]
  },
  {
   "cell_type": "code",
   "execution_count": null,
   "id": "optimum-investor",
   "metadata": {},
   "outputs": [],
   "source": []
  }
 ],
 "metadata": {
  "kernelspec": {
   "display_name": "Python 3",
   "language": "python",
   "name": "python3"
  },
  "language_info": {
   "codemirror_mode": {
    "name": "ipython",
    "version": 3
   },
   "file_extension": ".py",
   "mimetype": "text/x-python",
   "name": "python",
   "nbconvert_exporter": "python",
   "pygments_lexer": "ipython3",
   "version": "3.8.8"
  }
 },
 "nbformat": 4,
 "nbformat_minor": 5
}
