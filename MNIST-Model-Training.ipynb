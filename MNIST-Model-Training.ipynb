{
 "cells": [
  {
   "cell_type": "code",
   "execution_count": 46,
   "id": "casual-portfolio",
   "metadata": {},
   "outputs": [],
   "source": [
    "import torch\n",
    "import torch.nn as nn\n",
    "import torch.nn.functional as F\n",
    "import torch.optim as optim\n",
    "import numpy as np"
   ]
  },
  {
   "cell_type": "code",
   "execution_count": 47,
   "id": "conventional-director",
   "metadata": {},
   "outputs": [],
   "source": [
    "## Let's start by loading our data\n",
    "\n",
    "# Starting with the labels\n",
    "with open(\"./data/processed_training_labels.csv\") as labels_file:\n",
    "    labels_string = labels_file.read()\n",
    "    labels = np.array(labels_string.split(','), dtype=int)\n",
    "    \n",
    "# Recall we had 60000 images. Let's make sure we didn't lose anythin\n",
    "assert len(labels) == 60000\n",
    "\n",
    "# Now for the images\n",
    "images = []\n",
    "with open(\"./data/processed_training_images\") as images_file:\n",
    "    raw_image_strings = images_file.readlines()\n",
    "    for img_string in raw_image_strings:\n",
    "        img_flat = np.array(img_string.split(\",\"), dtype=np.double)\n",
    "        img = np.reshape(img_flat, (28,28))\n",
    "        images.append(img)\n",
    "        \n",
    "# Again, let's do some random spot checking to make sure everything is as we expect\n",
    "assert len(images) == 60000\n",
    "i1,i2,i3 = np.random.randint(0, 60000, 3)\n",
    "assert images[i1].shape == (28,28)\n",
    "assert images[i2].shape == (28,28)\n",
    "assert images[i3].shape == (28,28)"
   ]
  },
  {
   "cell_type": "code",
   "execution_count": 48,
   "id": "previous-drill",
   "metadata": {},
   "outputs": [
    {
     "data": {
      "text/plain": [
       "<matplotlib.image.AxesImage at 0x7f49a875ba00>"
      ]
     },
     "execution_count": 48,
     "metadata": {},
     "output_type": "execute_result"
    },
    {
     "data": {
      "image/png": "[encoded data removed]",
      "text/plain": [
       "<Figure size 720x720 with 3 Axes>"
      ]
     },
     "metadata": {
      "needs_background": "light"
     },
     "output_type": "display_data"
    }
   ],
   "source": [
    "# And again, we'll just print out some images and their labels for good measure \n",
    "import matplotlib.pyplot as plt\n",
    "fig = plt.figure(figsize=(10,10))\n",
    "fig.add_subplot(1,4,1)\n",
    "plt.text(9,40,f\"label: {labels[i1]}\")\n",
    "plt.imshow(images[i1], cmap='gray')\n",
    "fig.add_subplot(1,4,2)\n",
    "plt.text(10,40,f\"label: {labels[i2]}\")\n",
    "plt.imshow(images[i2], cmap='gray')\n",
    "fig.add_subplot(1,4,3)\n",
    "plt.text(11,40,f\"label: {labels[i3]}\")\n",
    "plt.imshow(images[i3], cmap='gray')"
   ]
  },
  {
   "cell_type": "code",
   "execution_count": 84,
   "id": "perfect-classics",
   "metadata": {},
   "outputs": [],
   "source": [
    "## Okay! Now the fun begins.\n",
    "# To start, let's just get everything over to Torch\n",
    "train_labels = torch.tensor(labels).to('cuda:0')\n",
    "train_images = torch.tensor(images).to('cuda:0')\n",
    "\n",
    "# Let's convert them to the shape we need\n",
    "t_images = train_images.reshape((60000,1,784)).float()"
   ]
  },
  {
   "cell_type": "code",
   "execution_count": 89,
   "id": "egyptian-thanksgiving",
   "metadata": {},
   "outputs": [
    {
     "name": "stdout",
     "output_type": "stream",
     "text": [
      "torch.Size([60000, 10])\n",
      "torch.Size([60000, 1, 784])\n"
     ]
    }
   ],
   "source": [
    "# And we can take a look at their shapes\n",
    "print(t_labels.shape)\n",
    "print(t_images.shape)\n",
    "len(t_images)\n",
    "t_labels = torch.zeros(60000, 10).to('cuda:0')\n",
    "for i, l in enumerate(labels):\n",
    "    t_labels[i][l] = 1"
   ]
  },
  {
   "cell_type": "code",
   "execution_count": 92,
   "id": "pregnant-quilt",
   "metadata": {},
   "outputs": [],
   "source": [
    "# TODO: !DF! Try just one fully connected layer\n",
    "# TODO: !DF! Write explanation on MSELoss()\n",
    "class Net(nn.Module):\n",
    "    def __init__(self):\n",
    "        super(Net, self).__init__()\n",
    "        self.conv1 = nn.Conv1d(1,1,3)\n",
    "        self.fc1 = nn.Linear(782, 80)\n",
    "        self.fc2 = nn.Linear(80, 10)\n",
    "        \n",
    "    def forward(self, x):\n",
    "        x = F.relu(self.conv1(x))\n",
    "        x = F.relu(self.fc1(x))\n",
    "        return self.fc2(x)"
   ]
  },
  {
   "cell_type": "code",
   "execution_count": 93,
   "id": "elegant-offense",
   "metadata": {},
   "outputs": [],
   "source": [
    "net = Net()\n",
    "net = net.to('cuda:0')\n",
    "#net = net.float()\n",
    "USE_GPU = True\n",
    "\n",
    "#if USE_GPU:\n",
    "    ##device = torch.device('cuda' if torch.cuda.is_available() else 'cpu')\n",
    "    #t_labels = t_labels.to(device)\n",
    "    #t_images = t_images.to(device)\n",
    "    #net = net.to(device)"
   ]
  },
  {
   "cell_type": "code",
   "execution_count": 94,
   "id": "comprehensive-education",
   "metadata": {},
   "outputs": [
    {
     "name": "stdout",
     "output_type": "stream",
     "text": [
      "Epoch: 0, Batch: 0, running_loss: 210.3797607421875\n",
      "Epoch: 0, Batch: 2000, running_loss: 1343.5395960435271\n",
      "Epoch: 0, Batch: 4000, running_loss: 45.325023271143436\n",
      "Epoch: 0, Batch: 6000, running_loss: 45.015405997633934\n",
      "Epoch: 0, Batch: 8000, running_loss: 45.01344175636768\n",
      "Epoch: 0, Batch: 10000, running_loss: 44.98749636858702\n",
      "Epoch: 0, Batch: 12000, running_loss: 45.01728831976652\n",
      "Epoch: 0, Batch: 14000, running_loss: 45.00252152979374\n",
      "Epoch: 0, Batch: 16000, running_loss: 45.00426197052002\n",
      "Epoch: 0, Batch: 18000, running_loss: 44.97360632568598\n",
      "Epoch: 0, Batch: 20000, running_loss: 45.014309741556644\n",
      "Epoch: 0, Batch: 22000, running_loss: 45.000772409141064\n",
      "Epoch: 0, Batch: 24000, running_loss: 45.01628389954567\n",
      "Epoch: 0, Batch: 26000, running_loss: 44.985598266124725\n",
      "Epoch: 0, Batch: 28000, running_loss: 45.01908699423075\n",
      "Epoch: 0, Batch: 30000, running_loss: 45.0136511400342\n",
      "Epoch: 0, Batch: 32000, running_loss: 44.989374935626984\n",
      "Epoch: 0, Batch: 34000, running_loss: 45.008496306836605\n",
      "Epoch: 0, Batch: 36000, running_loss: 45.00405541062355\n",
      "Epoch: 0, Batch: 38000, running_loss: 45.01843950152397\n",
      "Epoch: 0, Batch: 40000, running_loss: 45.008714854717255\n",
      "Epoch: 0, Batch: 42000, running_loss: 44.99181903898716\n",
      "Epoch: 0, Batch: 44000, running_loss: 45.00970969349146\n",
      "Epoch: 0, Batch: 46000, running_loss: 45.01111374050379\n",
      "Epoch: 0, Batch: 48000, running_loss: 44.9945307970047\n",
      "Epoch: 0, Batch: 50000, running_loss: 45.018803618848324\n",
      "Epoch: 0, Batch: 52000, running_loss: 45.019784435629845\n",
      "Epoch: 0, Batch: 54000, running_loss: 45.01218655705452\n",
      "Epoch: 0, Batch: 56000, running_loss: 45.01629124581814\n",
      "Epoch: 0, Batch: 58000, running_loss: 44.99394927173853\n",
      "Epoch: 1, Batch: 0, running_loss: 0.09032981842756271\n",
      "Epoch: 1, Batch: 2000, running_loss: 44.99874974787235\n",
      "Epoch: 1, Batch: 4000, running_loss: 45.00272745639086\n",
      "Epoch: 1, Batch: 6000, running_loss: 44.98876775056124\n",
      "Epoch: 1, Batch: 8000, running_loss: 45.00879634171724\n",
      "Epoch: 1, Batch: 10000, running_loss: 44.988258831202984\n",
      "Epoch: 1, Batch: 12000, running_loss: 45.01634958386421\n",
      "Epoch: 1, Batch: 14000, running_loss: 45.00269826501608\n",
      "Epoch: 1, Batch: 16000, running_loss: 45.004225350916386\n",
      "Epoch: 1, Batch: 18000, running_loss: 44.97358237206936\n",
      "Epoch: 1, Batch: 20000, running_loss: 45.014299154281616\n",
      "Epoch: 1, Batch: 22000, running_loss: 45.00076495856047\n",
      "Epoch: 1, Batch: 24000, running_loss: 45.01627679169178\n",
      "Epoch: 1, Batch: 26000, running_loss: 44.98559109121561\n",
      "Epoch: 1, Batch: 28000, running_loss: 45.01907815039158\n",
      "Epoch: 1, Batch: 30000, running_loss: 45.01364408433437\n",
      "Epoch: 1, Batch: 32000, running_loss: 44.98936865478754\n",
      "Epoch: 1, Batch: 34000, running_loss: 45.008486457169056\n",
      "Epoch: 1, Batch: 36000, running_loss: 45.00404696166515\n",
      "Epoch: 1, Batch: 38000, running_loss: 45.01843159645796\n",
      "Epoch: 1, Batch: 40000, running_loss: 45.00870629400015\n",
      "Epoch: 1, Batch: 42000, running_loss: 44.9918108433485\n",
      "Epoch: 1, Batch: 44000, running_loss: 45.00970268249512\n",
      "Epoch: 1, Batch: 46000, running_loss: 45.0111076310277\n",
      "Epoch: 1, Batch: 48000, running_loss: 44.99452459812164\n",
      "Epoch: 1, Batch: 50000, running_loss: 45.018795013427734\n",
      "Epoch: 1, Batch: 52000, running_loss: 45.01977576315403\n",
      "Epoch: 1, Batch: 54000, running_loss: 45.01217748224735\n",
      "Epoch: 1, Batch: 56000, running_loss: 45.01628091931343\n",
      "Epoch: 1, Batch: 58000, running_loss: 44.9939421415329\n",
      "Epoch: 2, Batch: 0, running_loss: 0.09032978862524033\n",
      "Epoch: 2, Batch: 2000, running_loss: 44.99874211847782\n",
      "Epoch: 2, Batch: 4000, running_loss: 45.00271903723478\n",
      "Epoch: 2, Batch: 6000, running_loss: 44.98875877261162\n",
      "Epoch: 2, Batch: 8000, running_loss: 45.00879009068012\n",
      "Epoch: 2, Batch: 10000, running_loss: 44.98824883252382\n",
      "Epoch: 2, Batch: 12000, running_loss: 45.01634196192026\n",
      "Epoch: 2, Batch: 14000, running_loss: 45.002689868211746\n",
      "Epoch: 2, Batch: 16000, running_loss: 45.00421575456858\n",
      "Epoch: 2, Batch: 18000, running_loss: 44.97357629239559\n",
      "Epoch: 2, Batch: 20000, running_loss: 45.014293894171715\n",
      "Epoch: 2, Batch: 22000, running_loss: 45.000756181776524\n",
      "Epoch: 2, Batch: 24000, running_loss: 45.01627069711685\n",
      "Epoch: 2, Batch: 26000, running_loss: 44.98558371514082\n",
      "Epoch: 2, Batch: 28000, running_loss: 45.01906926929951\n",
      "Epoch: 2, Batch: 30000, running_loss: 45.0136371999979\n",
      "Epoch: 2, Batch: 32000, running_loss: 44.98936191946268\n",
      "Epoch: 2, Batch: 34000, running_loss: 45.0084764957428\n",
      "Epoch: 2, Batch: 36000, running_loss: 45.004038885235786\n",
      "Epoch: 2, Batch: 38000, running_loss: 45.01842375099659\n",
      "Epoch: 2, Batch: 40000, running_loss: 45.008697994053364\n",
      "Epoch: 2, Batch: 42000, running_loss: 44.991802394390106\n",
      "Epoch: 2, Batch: 44000, running_loss: 45.00969538092613\n",
      "Epoch: 2, Batch: 46000, running_loss: 45.01110188663006\n",
      "Epoch: 2, Batch: 48000, running_loss: 44.99451844394207\n",
      "Epoch: 2, Batch: 50000, running_loss: 45.018786042928696\n",
      "Epoch: 2, Batch: 52000, running_loss: 45.01976698637009\n",
      "Epoch: 2, Batch: 54000, running_loss: 45.01216860860586\n",
      "Epoch: 2, Batch: 56000, running_loss: 45.016271129250526\n",
      "Epoch: 2, Batch: 58000, running_loss: 44.9939349219203\n"
     ]
    }
   ],
   "source": [
    "criterion = nn.MSELoss().to('cuda:0')\n",
    "#optimizer = optim.SGD(net.parameters(), lr=0.01)\n",
    "for epoch in range(3):\n",
    "    running_loss = 0.0\n",
    "    for i in range(0,len(t_images), 4):\n",
    "        #raw_batch = t_images[i:i+4]\n",
    "        #batch = torch.zeros(4,1,784).to('cuda:0')\n",
    "        #for j, img in enumerate(raw_batch):\n",
    "            #batch[j] = img.flatten().double()\n",
    "        #batch_labels = t_labels[i:i+4]\n",
    "        #targets = torch.zeros(len(batch_labels),10).to('cuda:0')\n",
    "        #for k,t in enumerate(targets):\n",
    "            #label = batch_labels[k]\n",
    "            #t[label] = 1\n",
    "        \n",
    "        #batch = batch.to(device)\n",
    "        #targets = targets.to(device)\n",
    "        net.zero_grad()\n",
    "        out = net(t_images[i:i+4])\n",
    "        loss = criterion(out, t_labels[i:i+4])\n",
    "        loss.backward()\n",
    "        running_loss += loss.item()\n",
    "        if i % 2000 == 0:\n",
    "            ## I recommend doing things like this. It helped me catch mistakes\n",
    "            #print(batch[0][0])\n",
    "            #plt.imshow(batch[0][0].reshape((28,28)), cmap='gray')\n",
    "            #plt.show()\n",
    "            #print(targets[0])\n",
    "            print(f\"Epoch: {epoch}, Batch: {i}, running_loss: {running_loss}\")\n",
    "            running_loss = 0.0\n",
    "        for f in net.parameters():\n",
    "            f.data.sub_(f.grad.data * 0.01)\n",
    "        \n",
    "    "
   ]
  },
  {
   "cell_type": "code",
   "execution_count": null,
   "id": "dress-confusion",
   "metadata": {},
   "outputs": [],
   "source": [
    "device = torch.device('cuda' if torch.cuda.is_available() else 'cpu')\n",
    "device"
   ]
  },
  {
   "cell_type": "code",
   "execution_count": null,
   "id": "motivated-difficulty",
   "metadata": {},
   "outputs": [],
   "source": [
    "plt.imshow(t_images[2], cmap='gray')"
   ]
  },
  {
   "cell_type": "code",
   "execution_count": 10,
   "id": "surgical-layout",
   "metadata": {},
   "outputs": [
    {
     "data": {
      "text/plain": [
       "tensor(4, device='cuda:0')"
      ]
     },
     "execution_count": 10,
     "metadata": {},
     "output_type": "execute_result"
    }
   ],
   "source": [
    "torch.argmax(net(t_images[2].flatten().float().unsqueeze(0).unsqueeze(0)))"
   ]
  },
  {
   "cell_type": "code",
   "execution_count": 15,
   "id": "sweet-gazette",
   "metadata": {},
   "outputs": [],
   "source": [
    "with open(\"./data/processed_testing_labels.csv\") as labels_file:\n",
    "    labels_string = labels_file.read()\n",
    "    testing_labels = np.array(labels_string.split(','), dtype=int)\n",
    "    \n",
    "# Recall we had 60000 images. Let's make sure we didn't lose anythin\n",
    "assert len(testing_labels) == 10000\n",
    "\n",
    "# Now for the images\n",
    "testing_images = []\n",
    "with open(\"./data/processed_testing_images\") as images_file:\n",
    "    raw_image_strings = images_file.readlines()\n",
    "    for img_string in raw_image_strings:\n",
    "        img_flat = np.array(img_string.split(\",\"), dtype=np.double)\n",
    "        img = np.reshape(img_flat, (28,28))\n",
    "        testing_images.append(img)"
   ]
  },
  {
   "cell_type": "code",
   "execution_count": 23,
   "id": "exotic-metallic",
   "metadata": {},
   "outputs": [],
   "source": [
    "t_test_labels = torch.tensor(testing_labels).to('cuda:0')\n",
    "t_test_images = torch.tensor(testing_images).to('cuda:0')\n",
    "t_test_images = t_test_images.reshape(10000, 784).float()"
   ]
  },
  {
   "cell_type": "code",
   "execution_count": 24,
   "id": "optical-connection",
   "metadata": {},
   "outputs": [
    {
     "name": "stdout",
     "output_type": "stream",
     "text": [
      "8291 / 10000\n"
     ]
    }
   ],
   "source": [
    "correct = []\n",
    "for i,img in enumerate(t_test_images):\n",
    "    res = torch.argmax(net(img.unsqueeze(0).unsqueeze(0)))\n",
    "    targ = t_test_labels[i]\n",
    "    if res == targ:\n",
    "        correct.append(1)\n",
    "    else:\n",
    "        correct.append(0)\n",
    "\n",
    "print(f\"{sum(correct)} / {len(correct)}\")"
   ]
  },
  {
   "cell_type": "code",
   "execution_count": 27,
   "id": "soviet-quilt",
   "metadata": {},
   "outputs": [
    {
     "data": {
      "text/plain": [
       "<matplotlib.image.AxesImage at 0x7f49a8914d00>"
      ]
     },
     "execution_count": 27,
     "metadata": {},
     "output_type": "execute_result"
    },
    {
     "data": {
      "image/png": "[encoded data removed]",
      "text/plain": [
       "<Figure size 432x288 with 1 Axes>"
      ]
     },
     "metadata": {
      "needs_background": "light"
     },
     "output_type": "display_data"
    }
   ],
   "source": [
    "img = t_test_images[9496].cpu().reshape(28,28)\n",
    "plt.imshow(img, cmap='gray')"
   ]
  },
  {
   "cell_type": "code",
   "execution_count": 30,
   "id": "steady-marijuana",
   "metadata": {},
   "outputs": [
    {
     "data": {
      "text/plain": [
       "tensor(8, device='cuda:0')"
      ]
     },
     "execution_count": 30,
     "metadata": {},
     "output_type": "execute_result"
    }
   ],
   "source": [
    "torch.argmax(net(img.flatten().float().unsqueeze(0).unsqueeze(0).cuda()))"
   ]
  },
  {
   "cell_type": "code",
   "execution_count": null,
   "id": "decreased-aluminum",
   "metadata": {},
   "outputs": [],
   "source": [
    "img.shape"
   ]
  },
  {
   "cell_type": "code",
   "execution_count": null,
   "id": "attended-possibility",
   "metadata": {},
   "outputs": [],
   "source": [
    "img.flatten().shape"
   ]
  },
  {
   "cell_type": "code",
   "execution_count": 32,
   "id": "palestinian-durham",
   "metadata": {},
   "outputs": [
    {
     "ename": "RuntimeError",
     "evalue": "shape '[60000, 10]' is invalid for input of size 60000",
     "output_type": "error",
     "traceback": [
      "\u001b[0;31m---------------------------------------------------------------------------\u001b[0m",
      "\u001b[0;31mRuntimeError\u001b[0m                              Traceback (most recent call last)",
      "\u001b[0;32m<ipython-input-32-93cb4da5433c>\u001b[0m in \u001b[0;36m<module>\u001b[0;34m\u001b[0m\n\u001b[0;32m----> 1\u001b[0;31m \u001b[0mt_labels\u001b[0m\u001b[0;34m.\u001b[0m\u001b[0mreshape\u001b[0m\u001b[0;34m(\u001b[0m\u001b[0;36m60000\u001b[0m\u001b[0;34m,\u001b[0m \u001b[0;36m10\u001b[0m\u001b[0;34m)\u001b[0m\u001b[0;34m\u001b[0m\u001b[0;34m\u001b[0m\u001b[0m\n\u001b[0m",
      "\u001b[0;31mRuntimeError\u001b[0m: shape '[60000, 10]' is invalid for input of size 60000"
     ]
    }
   ],
   "source": [
    "t_labels.reshape(60000, 10)"
   ]
  },
  {
   "cell_type": "code",
   "execution_count": 37,
   "id": "lined-affect",
   "metadata": {},
   "outputs": [
    {
     "data": {
      "text/plain": [
       "tensor([[True, True, True,  ..., True, True, True],\n",
       "        [True, True, True,  ..., True, True, True],\n",
       "        [True, True, True,  ..., True, True, True],\n",
       "        ...,\n",
       "        [True, True, True,  ..., True, True, True],\n",
       "        [True, True, True,  ..., True, True, True],\n",
       "        [True, True, True,  ..., True, True, True]], device='cuda:0')"
      ]
     },
     "execution_count": 37,
     "metadata": {},
     "output_type": "execute_result"
    }
   ],
   "source": [
    "t_images.reshape((60000, 784))[0] == t_images.flatten().reshape((60000, 784))"
   ]
  },
  {
   "cell_type": "code",
   "execution_count": 70,
   "id": "meaning-ambassador",
   "metadata": {},
   "outputs": [
    {
     "data": {
      "text/plain": [
       "torch.Size([2, 1])"
      ]
     },
     "execution_count": 70,
     "metadata": {},
     "output_type": "execute_result"
    }
   ],
   "source": [
    "t_labels[1:3].reshape(2,1).shape"
   ]
  },
  {
   "cell_type": "code",
   "execution_count": 91,
   "id": "compact-admission",
   "metadata": {},
   "outputs": [
    {
     "data": {
      "text/plain": [
       "tensor([0., 0., 0., 0., 0., 1., 0., 0., 0., 0.], device='cuda:0')"
      ]
     },
     "execution_count": 91,
     "metadata": {},
     "output_type": "execute_result"
    }
   ],
   "source": [
    "t_labels[0]"
   ]
  },
  {
   "cell_type": "code",
   "execution_count": null,
   "id": "funny-heaven",
   "metadata": {},
   "outputs": [],
   "source": []
  }
 ],
 "metadata": {
  "kernelspec": {
   "display_name": "Python 3",
   "language": "python",
   "name": "python3"
  },
  "language_info": {
   "codemirror_mode": {
    "name": "ipython",
    "version": 3
   },
   "file_extension": ".py",
   "mimetype": "text/x-python",
   "name": "python",
   "nbconvert_exporter": "python",
   "pygments_lexer": "ipython3",
   "version": "3.8.8"
  }
 },
 "nbformat": 4,
 "nbformat_minor": 5
}
