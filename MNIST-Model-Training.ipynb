{
 "cells": [
  {
   "cell_type": "code",
   "execution_count": 1,
   "id": "casual-portfolio",
   "metadata": {},
   "outputs": [],
   "source": [
    "import torch\n",
    "import torch.nn as nn\n",
    "import torch.nn.functional as F\n",
    "import torch.optim as optim\n",
    "import numpy as np"
   ]
  },
  {
   "cell_type": "code",
   "execution_count": 2,
   "id": "conventional-director",
   "metadata": {},
   "outputs": [],
   "source": [
    "## Let's start by loading our data\n",
    "\n",
    "# Starting with the labels\n",
    "with open(\"./data/processed_training_labels.csv\") as labels_file:\n",
    "    labels_string = labels_file.read()\n",
    "    labels = np.array(labels_string.split(','), dtype=int)\n",
    "    \n",
    "# Recall we had 60000 images. Let's make sure we didn't lose anythin\n",
    "assert len(labels) == 60000\n",
    "\n",
    "# Now for the images\n",
    "images = []\n",
    "with open(\"./data/processed_training_images\") as images_file:\n",
    "    raw_image_strings = images_file.readlines()\n",
    "    for img_string in raw_image_strings:\n",
    "        img_flat = np.array(img_string.split(\",\"), dtype=np.double)\n",
    "        img = np.reshape(img_flat, (28,28))\n",
    "        images.append(img)\n",
    "        \n",
    "# Again, let's do some random spot checking to make sure everything is as we expect\n",
    "assert len(images) == 60000\n",
    "i1,i2,i3 = np.random.randint(0, 60000, 3)\n",
    "assert images[i1].shape == (28,28)\n",
    "assert images[i2].shape == (28,28)\n",
    "assert images[i3].shape == (28,28)"
   ]
  },
  {
   "cell_type": "code",
   "execution_count": 3,
   "id": "previous-drill",
   "metadata": {},
   "outputs": [
    {
     "data": {
      "text/plain": [
       "<matplotlib.image.AxesImage at 0x7f7405baae20>"
      ]
     },
     "execution_count": 3,
     "metadata": {},
     "output_type": "execute_result"
    },
    {
     "data": {
      "image/png": "[encoded data removed]",
      "text/plain": [
       "<Figure size 720x720 with 3 Axes>"
      ]
     },
     "metadata": {
      "needs_background": "light"
     },
     "output_type": "display_data"
    }
   ],
   "source": [
    "# And again, we'll just print out some images and their labels for good measure \n",
    "import matplotlib.pyplot as plt\n",
    "fig = plt.figure(figsize=(10,10))\n",
    "fig.add_subplot(1,4,1)\n",
    "plt.text(9,40,f\"label: {labels[i1]}\")\n",
    "plt.imshow(images[i1], cmap='gray')\n",
    "fig.add_subplot(1,4,2)\n",
    "plt.text(10,40,f\"label: {labels[i2]}\")\n",
    "plt.imshow(images[i2], cmap='gray')\n",
    "fig.add_subplot(1,4,3)\n",
    "plt.text(11,40,f\"label: {labels[i3]}\")\n",
    "plt.imshow(images[i3], cmap='gray')"
   ]
  },
  {
   "cell_type": "code",
   "execution_count": 4,
   "id": "perfect-classics",
   "metadata": {},
   "outputs": [],
   "source": [
    "## Okay! Now the fun begins.\n",
    "# To start, let's just get everything over to Torch\n",
    "t_labels = torch.tensor(labels)\n",
    "t_images = torch.tensor(images)"
   ]
  },
  {
   "cell_type": "code",
   "execution_count": 5,
   "id": "egyptian-thanksgiving",
   "metadata": {},
   "outputs": [
    {
     "name": "stdout",
     "output_type": "stream",
     "text": [
      "torch.Size([60000])\n",
      "torch.Size([60000, 28, 28])\n"
     ]
    },
    {
     "data": {
      "text/plain": [
       "60000"
      ]
     },
     "execution_count": 5,
     "metadata": {},
     "output_type": "execute_result"
    }
   ],
   "source": [
    "# And we can take a look at their shapes\n",
    "print(t_labels.shape)\n",
    "print(t_images.shape)\n",
    "len(t_images)"
   ]
  },
  {
   "cell_type": "code",
   "execution_count": 6,
   "id": "pregnant-quilt",
   "metadata": {},
   "outputs": [],
   "source": [
    "# TODO: !DF! Try just one fully connected layer\n",
    "# TODO: !DF! Write explanation on MSELoss()\n",
    "class Net(nn.Module):\n",
    "    def __init__(self):\n",
    "        super(Net, self).__init__()\n",
    "        self.conv1 = nn.Conv1d(1,1,3)\n",
    "        self.fc1 = nn.Linear(782, 80)\n",
    "        self.fc2 = nn.Linear(80, 10)\n",
    "        \n",
    "    def forward(self, x):\n",
    "        x = F.relu(self.conv1(x))\n",
    "        x = F.relu(self.fc1(x))\n",
    "        return self.fc2(x)"
   ]
  },
  {
   "cell_type": "code",
   "execution_count": 7,
   "id": "elegant-offense",
   "metadata": {},
   "outputs": [],
   "source": [
    "net = Net()\n",
    "net = net.float()"
   ]
  },
  {
   "cell_type": "code",
   "execution_count": 8,
   "id": "comprehensive-education",
   "metadata": {},
   "outputs": [
    {
     "name": "stderr",
     "output_type": "stream",
     "text": [
      "/home/finn/miniconda3/envs/pytorch-mnist/lib/python3.8/site-packages/torch/nn/modules/loss.py:446: UserWarning: Using a target size (torch.Size([4, 10])) that is different to the input size (torch.Size([4, 1, 10])). This will likely lead to incorrect results due to broadcasting. Please ensure they have the same size.\n",
      "  return F.mse_loss(input, target, reduction=self.reduction)\n"
     ]
    },
    {
     "name": "stdout",
     "output_type": "stream",
     "text": [
      "Epoch: 0, Batch: 0, running_loss: 3.0109519958496094\n",
      "Epoch: 0, Batch: 2000, running_loss: 47.93267650157213\n",
      "Epoch: 0, Batch: 4000, running_loss: 45.17565347999334\n",
      "Epoch: 0, Batch: 6000, running_loss: 45.02662651985884\n",
      "Epoch: 0, Batch: 8000, running_loss: 45.01464667916298\n",
      "Epoch: 0, Batch: 10000, running_loss: 44.94611784815788\n",
      "Epoch: 0, Batch: 12000, running_loss: 44.976879589259624\n",
      "Epoch: 0, Batch: 14000, running_loss: 44.918387681245804\n",
      "Epoch: 0, Batch: 16000, running_loss: 44.883284851908684\n",
      "Epoch: 0, Batch: 18000, running_loss: 44.806061796844006\n",
      "Epoch: 0, Batch: 20000, running_loss: 44.791739247739315\n",
      "Epoch: 0, Batch: 22000, running_loss: 44.75615119189024\n",
      "Epoch: 0, Batch: 24000, running_loss: 44.76686005294323\n",
      "Epoch: 0, Batch: 26000, running_loss: 44.66662761569023\n",
      "Epoch: 0, Batch: 28000, running_loss: 44.66918031871319\n",
      "Epoch: 0, Batch: 30000, running_loss: 44.58419395238161\n",
      "Epoch: 0, Batch: 32000, running_loss: 44.665855437517166\n",
      "Epoch: 0, Batch: 34000, running_loss: 44.52830068767071\n",
      "Epoch: 0, Batch: 36000, running_loss: 44.490872859954834\n",
      "Epoch: 0, Batch: 38000, running_loss: 44.46079445630312\n",
      "Epoch: 0, Batch: 40000, running_loss: 44.36240915209055\n",
      "Epoch: 0, Batch: 42000, running_loss: 44.35813454538584\n",
      "Epoch: 0, Batch: 44000, running_loss: 44.33419390767813\n",
      "Epoch: 0, Batch: 46000, running_loss: 44.320757292211056\n",
      "Epoch: 0, Batch: 48000, running_loss: 44.262634731829166\n",
      "Epoch: 0, Batch: 50000, running_loss: 44.22616431862116\n",
      "Epoch: 0, Batch: 52000, running_loss: 44.23409542441368\n",
      "Epoch: 0, Batch: 54000, running_loss: 44.08258857578039\n",
      "Epoch: 0, Batch: 56000, running_loss: 44.05247689783573\n",
      "Epoch: 0, Batch: 58000, running_loss: 44.01682531833649\n",
      "Epoch: 1, Batch: 0, running_loss: 0.09069100767374039\n",
      "Epoch: 1, Batch: 2000, running_loss: 44.20869977772236\n",
      "Epoch: 1, Batch: 4000, running_loss: 44.03764571249485\n",
      "Epoch: 1, Batch: 6000, running_loss: 43.97935623675585\n",
      "Epoch: 1, Batch: 8000, running_loss: 44.07752352952957\n",
      "Epoch: 1, Batch: 10000, running_loss: 43.83940054476261\n",
      "Epoch: 1, Batch: 12000, running_loss: 44.04931557178497\n",
      "Epoch: 1, Batch: 14000, running_loss: 43.89729116111994\n",
      "Epoch: 1, Batch: 16000, running_loss: 44.05390686541796\n",
      "Epoch: 1, Batch: 18000, running_loss: 43.82132567465305\n",
      "Epoch: 1, Batch: 20000, running_loss: 43.81790066510439\n",
      "Epoch: 1, Batch: 22000, running_loss: 43.927468188107014\n",
      "Epoch: 1, Batch: 24000, running_loss: 43.94639242440462\n",
      "Epoch: 1, Batch: 26000, running_loss: 43.901426300406456\n",
      "Epoch: 1, Batch: 28000, running_loss: 43.90228036791086\n",
      "Epoch: 1, Batch: 30000, running_loss: 43.80942555516958\n",
      "Epoch: 1, Batch: 32000, running_loss: 44.10693448781967\n",
      "Epoch: 1, Batch: 34000, running_loss: 43.84172365069389\n",
      "Epoch: 1, Batch: 36000, running_loss: 43.78580231964588\n",
      "Epoch: 1, Batch: 38000, running_loss: 43.86558257043362\n",
      "Epoch: 1, Batch: 40000, running_loss: 43.813427433371544\n",
      "Epoch: 1, Batch: 42000, running_loss: 43.8070382475853\n",
      "Epoch: 1, Batch: 44000, running_loss: 43.82178545743227\n",
      "Epoch: 1, Batch: 46000, running_loss: 43.84998741000891\n",
      "Epoch: 1, Batch: 48000, running_loss: 43.82724831998348\n",
      "Epoch: 1, Batch: 50000, running_loss: 43.78955142199993\n",
      "Epoch: 1, Batch: 52000, running_loss: 43.77946489304304\n",
      "Epoch: 1, Batch: 54000, running_loss: 43.65423854440451\n",
      "Epoch: 1, Batch: 56000, running_loss: 43.64219304919243\n",
      "Epoch: 1, Batch: 58000, running_loss: 43.63631780445576\n",
      "Epoch: 2, Batch: 0, running_loss: 0.09075725078582764\n",
      "Epoch: 2, Batch: 2000, running_loss: 43.878004148602486\n",
      "Epoch: 2, Batch: 4000, running_loss: 43.63842412829399\n",
      "Epoch: 2, Batch: 6000, running_loss: 43.627688214182854\n",
      "Epoch: 2, Batch: 8000, running_loss: 43.76927895843983\n",
      "Epoch: 2, Batch: 10000, running_loss: 43.50648256391287\n",
      "Epoch: 2, Batch: 12000, running_loss: 43.77267161756754\n",
      "Epoch: 2, Batch: 14000, running_loss: 43.61664155125618\n",
      "Epoch: 2, Batch: 16000, running_loss: 43.80808140709996\n",
      "Epoch: 2, Batch: 18000, running_loss: 43.54319606721401\n",
      "Epoch: 2, Batch: 20000, running_loss: 43.538376554846764\n",
      "Epoch: 2, Batch: 22000, running_loss: 43.66139376908541\n",
      "Epoch: 2, Batch: 24000, running_loss: 43.682359769940376\n",
      "Epoch: 2, Batch: 26000, running_loss: 43.67582134157419\n",
      "Epoch: 2, Batch: 28000, running_loss: 43.6577468290925\n",
      "Epoch: 2, Batch: 30000, running_loss: 43.59856751561165\n",
      "Epoch: 2, Batch: 32000, running_loss: 43.907064855098724\n",
      "Epoch: 2, Batch: 34000, running_loss: 43.59687061607838\n",
      "Epoch: 2, Batch: 36000, running_loss: 43.538454450666904\n",
      "Epoch: 2, Batch: 38000, running_loss: 43.679848946630955\n",
      "Epoch: 2, Batch: 40000, running_loss: 43.605146273970604\n",
      "Epoch: 2, Batch: 42000, running_loss: 43.61300374567509\n",
      "Epoch: 2, Batch: 44000, running_loss: 43.624680392444134\n",
      "Epoch: 2, Batch: 46000, running_loss: 43.66899923235178\n",
      "Epoch: 2, Batch: 48000, running_loss: 43.65605165809393\n",
      "Epoch: 2, Batch: 50000, running_loss: 43.61229698359966\n",
      "Epoch: 2, Batch: 52000, running_loss: 43.57994354516268\n",
      "Epoch: 2, Batch: 54000, running_loss: 43.489023581147194\n",
      "Epoch: 2, Batch: 56000, running_loss: 43.463015124201775\n",
      "Epoch: 2, Batch: 58000, running_loss: 43.46301897615194\n"
     ]
    }
   ],
   "source": [
    "criterion = nn.MSELoss()\n",
    "#optimizer = optim.SGD(net.parameters(), lr=0.01)\n",
    "for epoch in range(3):\n",
    "    running_loss = 0.0\n",
    "    for i in range(0,len(t_images), 4):\n",
    "        raw_batch = t_images[i:i+4]\n",
    "        batch = torch.zeros(4,1,784)\n",
    "        for j, img in enumerate(raw_batch):\n",
    "            batch[j] = img.flatten().double()\n",
    "        batch_labels = t_labels[i:i+4]\n",
    "        targets = torch.zeros(len(batch_labels),10)\n",
    "        for k,t in enumerate(targets):\n",
    "            label = batch_labels[k]\n",
    "            t[label] = 1\n",
    "        \n",
    "        net.zero_grad()\n",
    "        out = net(batch)\n",
    "        loss = criterion(out, targets)\n",
    "        loss.backward()\n",
    "        running_loss += loss.item()\n",
    "        if i % 2000 == 0:\n",
    "            ## I recommend doing things like this. It helped me catch mistakes\n",
    "            #print(batch[0][0])\n",
    "            #plt.imshow(batch[0][0].reshape((28,28)), cmap='gray')\n",
    "            #plt.show()\n",
    "            #print(targets[0])\n",
    "            print(f\"Epoch: {epoch}, Batch: {i}, running_loss: {running_loss}\")\n",
    "            running_loss = 0.0\n",
    "        for f in net.parameters():\n",
    "            f.data.sub_(f.grad.data * 0.01)\n",
    "        \n",
    "    "
   ]
  },
  {
   "cell_type": "code",
   "execution_count": 9,
   "id": "motivated-difficulty",
   "metadata": {},
   "outputs": [
    {
     "data": {
      "text/plain": [
       "<matplotlib.image.AxesImage at 0x7f7405aaab50>"
      ]
     },
     "execution_count": 9,
     "metadata": {},
     "output_type": "execute_result"
    },
    {
     "data": {
      "image/png": "[encoded data removed]",
      "text/plain": [
       "<Figure size 432x288 with 1 Axes>"
      ]
     },
     "metadata": {
      "needs_background": "light"
     },
     "output_type": "display_data"
    }
   ],
   "source": [
    "plt.imshow(t_images[2], cmap='gray')"
   ]
  },
  {
   "cell_type": "code",
   "execution_count": 11,
   "id": "surgical-layout",
   "metadata": {},
   "outputs": [
    {
     "data": {
      "text/plain": [
       "tensor(4)"
      ]
     },
     "execution_count": 11,
     "metadata": {},
     "output_type": "execute_result"
    }
   ],
   "source": [
    "torch.argmax(net(t_images[2].flatten().float().unsqueeze(0).unsqueeze(0)))"
   ]
  },
  {
   "cell_type": "code",
   "execution_count": 12,
   "id": "sweet-gazette",
   "metadata": {},
   "outputs": [],
   "source": [
    "with open(\"./data/processed_testing_labels.csv\") as labels_file:\n",
    "    labels_string = labels_file.read()\n",
    "    testing_labels = np.array(labels_string.split(','), dtype=int)\n",
    "    \n",
    "# Recall we had 60000 images. Let's make sure we didn't lose anythin\n",
    "assert len(testing_labels) == 10000\n",
    "\n",
    "# Now for the images\n",
    "testing_images = []\n",
    "with open(\"./data/processed_testing_images\") as images_file:\n",
    "    raw_image_strings = images_file.readlines()\n",
    "    for img_string in raw_image_strings:\n",
    "        img_flat = np.array(img_string.split(\",\"), dtype=np.double)\n",
    "        img = np.reshape(img_flat, (28,28))\n",
    "        testing_images.append(img)"
   ]
  },
  {
   "cell_type": "code",
   "execution_count": 13,
   "id": "exotic-metallic",
   "metadata": {},
   "outputs": [],
   "source": [
    "t_test_labels = torch.tensor(testing_labels)\n",
    "t_test_images = torch.tensor(testing_images)"
   ]
  },
  {
   "cell_type": "code",
   "execution_count": 20,
   "id": "optical-connection",
   "metadata": {},
   "outputs": [
    {
     "name": "stdout",
     "output_type": "stream",
     "text": [
      "8499 / 10000\n"
     ]
    }
   ],
   "source": [
    "test_imgs = t_test_images\n",
    "test_labels = t_test_labels\n",
    "correct = []\n",
    "for i,img in enumerate(test_imgs):\n",
    "    res = torch.argmax(net(img.flatten().float().unsqueeze(0).unsqueeze(0)))\n",
    "    targ = test_labels[i]\n",
    "    if res == targ:\n",
    "        correct.append(1)\n",
    "    else:\n",
    "        correct.append(0)\n",
    "\n",
    "print(f\"{sum(correct)} / {len(correct)}\")"
   ]
  },
  {
   "cell_type": "code",
   "execution_count": 23,
   "id": "soviet-quilt",
   "metadata": {},
   "outputs": [
    {
     "data": {
      "text/plain": [
       "<matplotlib.image.AxesImage at 0x7f7405bd38e0>"
      ]
     },
     "execution_count": 23,
     "metadata": {},
     "output_type": "execute_result"
    },
    {
     "data": {
      "image/png": "[encoded data removed]",
      "text/plain": [
       "<Figure size 432x288 with 1 Axes>"
      ]
     },
     "metadata": {
      "needs_background": "light"
     },
     "output_type": "display_data"
    }
   ],
   "source": [
    "img = t_test_images[9496]\n",
    "plt.imshow(img, cmap='gray')"
   ]
  },
  {
   "cell_type": "code",
   "execution_count": 24,
   "id": "steady-marijuana",
   "metadata": {},
   "outputs": [
    {
     "data": {
      "text/plain": [
       "tensor(8)"
      ]
     },
     "execution_count": 24,
     "metadata": {},
     "output_type": "execute_result"
    }
   ],
   "source": [
    "torch.argmax(net(img.flatten().float().unsqueeze(0).unsqueeze(0)))"
   ]
  },
  {
   "cell_type": "code",
   "execution_count": null,
   "id": "decreased-aluminum",
   "metadata": {},
   "outputs": [],
   "source": [
    "img.shape"
   ]
  },
  {
   "cell_type": "code",
   "execution_count": null,
   "id": "attended-possibility",
   "metadata": {},
   "outputs": [],
   "source": [
    "img.flatten().shape"
   ]
  },
  {
   "cell_type": "code",
   "execution_count": 19,
   "id": "palestinian-durham",
   "metadata": {},
   "outputs": [],
   "source": [
    "torch.save(net, \"./models/1dC2fc85\")\n",
    "torch.save(net.state_dict(), \"./models/1dC2fc85.state_dict\")"
   ]
  },
  {
   "cell_type": "code",
   "execution_count": null,
   "id": "lined-affect",
   "metadata": {},
   "outputs": [],
   "source": []
  }
 ],
 "metadata": {
  "kernelspec": {
   "display_name": "Python 3",
   "language": "python",
   "name": "python3"
  },
  "language_info": {
   "codemirror_mode": {
    "name": "ipython",
    "version": 3
   },
   "file_extension": ".py",
   "mimetype": "text/x-python",
   "name": "python",
   "nbconvert_exporter": "python",
   "pygments_lexer": "ipython3",
   "version": "3.8.8"
  }
 },
 "nbformat": 4,
 "nbformat_minor": 5
}
